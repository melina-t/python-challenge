{
 "cells": [
  {
   "cell_type": "code",
   "execution_count": 3,
   "metadata": {},
   "outputs": [
    {
     "name": "stdout",
     "output_type": "stream",
     "text": [
      "Financial Analysis\n",
      "------------------------\n",
      "Total Months: 86\n",
      "Total: $22564198\n",
      "Average Change: -8311.11\n",
      "Greatest Increase in Profits: Aug-16 ($1862002)\n",
      "Greatest Decrease in Profits: Feb-14 ($-1825558)\n"
     ]
    }
   ],
   "source": [
    "# PyBank Solution\n",
    "import os\n",
    "import csv\n",
    "\n",
    "pybank_csv = os.path.join('..','Resources','budget_data.csv')\n",
    "\n",
    "#List to store data, taken from Activity 12 CensusZip\n",
    "total_months = []\n",
    "net_total = []\n",
    "average_changes = []\n",
    "\n",
    "#Also taken from Activity 12 CensusZip\n",
    "with open(pybank_csv,encoding=\"UTF-8\") as csvfile:\n",
    "    csvreader = csv.reader(csvfile,delimiter=\",\")\n",
    "    csv_header = next(csvfile)\n",
    "    for row in csvreader:\n",
    "        total_months.append(row[0])\n",
    "        net_total.append(int(row[1]))\n",
    "\n",
    "for i in range(len(net_total)-1):\n",
    "    average_changes.append(net_total[i+1]-net_total[i])\n",
    "\n",
    "max_increase = max(average_changes)\n",
    "min_increase = min(average_changes)\n",
    "\n",
    "greatest_increase = average_changes.index(max(average_changes))+1\n",
    "greatest_decrease = average_changes.index(min(average_changes))+1\n",
    "\n",
    "# Print within the file the results\n",
    "print(\"Financial Analysis\")\n",
    "print(\"------------------------\")\n",
    "print(f\"Total Months: {len(total_months)}\")\n",
    "print(f\"Total: ${sum(net_total)}\")\n",
    "print(f\"Average Change: {round(sum(average_changes)/len(average_changes),2)}\")\n",
    "print(f\"Greatest Increase in Profits: {total_months[greatest_increase]} (${(str(max_increase))})\")\n",
    "print(f\"Greatest Decrease in Profits: {total_months[greatest_decrease]} (${(str(min_increase))})\") \n",
    "\n",
    "#Code to export .txt file\n",
    "with open(\"financial_analysis.txt\", \"w\") as text:\n",
    "    text.write(\"Financial Analysis\" + '\\n')\n",
    "    text.write(\"------------------------\" + '\\n')\n",
    "    text.write(f\"Total Months: {len(total_months)}\" + '\\n')\n",
    "    text.write(f\"Total: ${sum(net_total)}\" + '\\n')\n",
    "    text.write(f\"Average Change: {round(sum(average_changes)/len(average_changes),2)}\" + '\\n')\n",
    "    text.write(f\"Greatest Increase in Profits: {total_months[greatest_increase]} (${(str(max_increase))})\" + '\\n')\n",
    "    text.write(f\"Greatest Decrease in Profits: {total_months[greatest_decrease]} (${(str(min_increase))})\" + '\\n') \n",
    "\n",
    "\n",
    "#Researched how to make every result in a different line for the .txt file\n",
    "# https://stackoverflow.com/questions/2918362/writing-string-to-a-file-on-a-new-line-every-time "
   ]
  }
 ],
 "metadata": {
  "kernelspec": {
   "display_name": "base",
   "language": "python",
   "name": "python3"
  },
  "language_info": {
   "codemirror_mode": {
    "name": "ipython",
    "version": 3
   },
   "file_extension": ".py",
   "mimetype": "text/x-python",
   "name": "python",
   "nbconvert_exporter": "python",
   "pygments_lexer": "ipython3",
   "version": "3.9.6"
  },
  "orig_nbformat": 4
 },
 "nbformat": 4,
 "nbformat_minor": 2
}
