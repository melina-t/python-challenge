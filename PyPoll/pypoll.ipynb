{
 "cells": [
  {
   "cell_type": "code",
   "execution_count": null,
   "metadata": {},
   "outputs": [],
   "source": [
    "# PyPoll Solution\n",
    "import os\n",
    "import csv\n",
    "\n",
    "pypoll_csv = os.path.join('..','Resources','election_data.csv')\n",
    "\n",
    "# List to store data\n",
    "total_votes = []\n",
    "votes = 0\n",
    "list_candidates = []\n",
    "percent_votes = []\n",
    "won_votes = []\n",
    "\n",
    "\n",
    "with open(pypoll_csv,encoding=\"UTF-8\") as csvfile:\n",
    "    csvreader = csv.reader(csvfile,delimiter=\",\")\n",
    "    csv_header = next(csvfile)\n",
    "    for row in csvreader:\n",
    "\n",
    "        #Get the total of votes\n",
    "        total_votes.append(row[0])\n",
    "\n",
    "        #List of candidates who received votes\n",
    "        list_candidates.append(row[2])\n",
    "\n",
    "        # Percentage of votes each candidate won\n",
    "        #percent = round(int(row[2])/int(row[0]) * 100, 2)\n",
    "        #percent_votes.append(str(percent) + \"%\")\n",
    "\n",
    "\n",
    "        #Total number of votes each candidate won\n",
    "\n",
    "\n",
    "        #Winner of the election based on popular vote\n",
    "\n",
    "\n",
    "# Print within the file the results\n",
    "print(\"Election Results\")\n",
    "print(\"------------------------\")\n",
    "print(f\"Total Votes: {len(total_votes)}\")\n",
    "print(\"------------------------\")\n",
    "#print(f\"Total: ${sum(net_total)}\")\n",
    "#print(f\"Average Change: {round(sum(average_changes)/len(average_changes),2)}\")\n",
    "#print(f\"Greatest Increase in Profits: {total_months[greatest_increase]} (${(str(max_increase))})\")\n",
    "#print(\"------------------------\")\n",
    "#print(f\"Winner: {total_months[greatest_decrease]} (${(str(min_increase))})\") \n"
   ]
  }
 ],
 "metadata": {
  "kernelspec": {
   "display_name": "Python 3",
   "language": "python",
   "name": "python3"
  },
  "language_info": {
   "codemirror_mode": {
    "name": "ipython",
    "version": 3
   },
   "file_extension": ".py",
   "mimetype": "text/x-python",
   "name": "python",
   "nbconvert_exporter": "python",
   "pygments_lexer": "ipython3",
   "version": "3.9.6"
  },
  "orig_nbformat": 4
 },
 "nbformat": 4,
 "nbformat_minor": 2
}
