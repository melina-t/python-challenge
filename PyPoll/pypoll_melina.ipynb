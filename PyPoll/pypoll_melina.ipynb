{
 "cells": [
  {
   "cell_type": "code",
   "execution_count": 48,
   "metadata": {},
   "outputs": [
    {
     "name": "stdout",
     "output_type": "stream",
     "text": [
      "Election Results\n",
      "------------------------\n",
      "Total Votes: 369711\n",
      "------------------------\n",
      "Charles Casper Stockham: 23.049% (85213)\n",
      "Diana DeGette: 73.812% (272892)\n",
      "Raymon Anthony Doane: 3.139% (11606)\n",
      "------------------------\n",
      "Winner: Diana DeGette\n"
     ]
    }
   ],
   "source": [
    "import os\n",
    "import csv\n",
    "\n",
    "pypoll_csv = os.path.join('..','Resources','election_data.csv')\n",
    "\n",
    "# Store data\n",
    "total_votes = 0\n",
    "candidate = \"\"\n",
    "final_list = {}\n",
    "winner_votes = 0\n",
    "winner_name = \"\"\n",
    "percentage = ()\n",
    "    \n",
    "with open(pypoll_csv,encoding=\"UTF-8\") as csvfile:\n",
    "    csvreader = csv.reader(csvfile,delimiter=\",\")\n",
    "    csv_header = next(csvfile)\n",
    "    for row in csvreader:\n",
    "\n",
    "        #Total of votes\n",
    "        total_votes += 1\n",
    "        \n",
    "        candidate = row[2]\n",
    "        if candidate in final_list:\n",
    "            final_list[candidate] += 1\n",
    "        else:\n",
    "            final_list[candidate] = 1    \n",
    "\n",
    "print(\"Election Results\")\n",
    "print(\"------------------------\")\n",
    "print(f\"Total Votes: {total_votes}\")\n",
    "print(\"------------------------\")            \n",
    "\n",
    "# For printing each candidates in format \"Khan: 63.000% (2218231)\"\"\n",
    "for candidate in final_list:\n",
    "\n",
    "    # Calculating percentage of candidates vote\n",
    "    percentage = (final_list[candidate]/total_votes)*100\n",
    "    percentage_formatted = \"{:.3f}\".format(percentage)\n",
    "\n",
    "    print(candidate + \": \" + str(percentage_formatted) + \"%\" + \" (\" + str(final_list[candidate]) + \")\")\n",
    "\n",
    "# Winner + their votes\n",
    "for candidate in final_list:\n",
    "    if final_list[candidate] > winner_votes:\n",
    "        winner_votes = final_list[candidate]\n",
    "        winner_name = candidate\n",
    "    \n",
    "print(\"------------------------\")\n",
    "print(f\"Winner: {winner_name}\")\n",
    "\n",
    "# Print within the file the results\n",
    "with open(\"election_results.txt\", \"w\") as text:\n",
    "    text.write(\"Election Results\" + '\\n')\n",
    "    text.write(\"------------------------\" + '\\n')\n",
    "    text.write(f\"Total Votes: {total_votes}\" + '\\n')\n",
    "    text.write(\"------------------------\" + '\\n')\n",
    "    text.write(candidate + \": \" + str(percentage_formatted) + \"%\" + \" (\" + str(final_list[candidate]) + \")\" + '\\n')\n",
    "    text.write(\"------------------------\" + '\\n')\n",
    "    text.write(f\"Winner: {winner_name}\" + '\\n')\n",
    "    "
   ]
  }
 ],
 "metadata": {
  "kernelspec": {
   "display_name": "Python 3",
   "language": "python",
   "name": "python3"
  },
  "language_info": {
   "codemirror_mode": {
    "name": "ipython",
    "version": 3
   },
   "file_extension": ".py",
   "mimetype": "text/x-python",
   "name": "python",
   "nbconvert_exporter": "python",
   "pygments_lexer": "ipython3",
   "version": "3.9.6"
  },
  "orig_nbformat": 4
 },
 "nbformat": 4,
 "nbformat_minor": 2
}
